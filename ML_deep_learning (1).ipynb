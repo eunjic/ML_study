{
  "nbformat": 4,
  "nbformat_minor": 0,
  "metadata": {
    "colab": {
      "name": "ML_deep learning.ipynb",
      "provenance": []
    },
    "kernelspec": {
      "name": "python3",
      "display_name": "Python 3"
    },
    "language_info": {
      "name": "python"
    }
  },
  "cells": [
    {
      "cell_type": "markdown",
      "source": [
        "#SOM 신경망\n",
        "손글씨 이미지 데이터 구분"
      ],
      "metadata": {
        "id": "2rylqtw6uChN"
      }
    },
    {
      "cell_type": "code",
      "execution_count": null,
      "metadata": {
        "id": "VVD2saX_t8BS"
      },
      "outputs": [],
      "source": [
        "from math import sqrt\n",
        "\n",
        "from numpy import (array, unravel_index, nditer, linalg, random, subtract,\n",
        "                   power, exp, pi, zeros, arange, outer, meshgrid, dot)\n",
        "from collections import defaultdict\n",
        "from warnings import warn\n",
        "\n",
        "\n",
        "def fast_norm(x):\n",
        "    \"\"\"Returns norm-2 of a 1-D numpy array.\n",
        "\n",
        "    * faster than linalg.norm in case of 1-D arrays (numpy 1.9.2rc1).\n",
        "    \"\"\"\n",
        "    return sqrt(dot(x, x.T))\n",
        "\n",
        "\n",
        "class Som:\n",
        "    def __init__(self,x,y,input_len,sigma=1.0,learning_rate=0.5,random_seed=None):\n",
        "        \"\"\"\n",
        "            Initializes a Self Organizing Maps.\n",
        "            x,y - dimensions of the SOM\n",
        "            input_len - number of the elements of the vectors in input\n",
        "            sigma - spread of the neighborhood function (Gaussian), needs to be adequate to the dimensions of the map.\n",
        "            (at the iteration t we have sigma(t) = sigma / (1 + t/T) where T is #num_iteration/2)\n",
        "            learning_rate - initial learning rate\n",
        "            (at the iteration t we have learning_rate(t) = learning_rate / (1 + t/T) where T is #num_iteration/2)\n",
        "            random_seed, random seed to use.\n",
        "        \"\"\"\n",
        "        if sigma >= x/2.0 or sigma >= y/2.0:\n",
        "            warn('Warning: sigma is too high for the dimension of the map.')\n",
        "        if random_seed:\n",
        "            self.random_generator = random.RandomState(random_seed)\n",
        "        else:\n",
        "            self.random_generator = random.RandomState(random_seed)\n",
        "        self.learning_rate = learning_rate\n",
        "        self.sigma = sigma\n",
        "        self.weights = self.random_generator.rand(x,y,input_len)*2-1 # random initialization\n",
        "        self.weights = array([v/linalg.norm(v) for v in self.weights]) # normalization\n",
        "        self.activation_map = zeros((x,y))\n",
        "        self.neigx = arange(x)\n",
        "        self.neigy = arange(y) # used to evaluate the neighborhood function\n",
        "        self.neighborhood = self.gaussian\n",
        "\n",
        "    def _activate(self,x):\n",
        "        \"\"\" Updates matrix activation_map, in this matrix the element i,j is the response of the neuron i,j to x \"\"\"\n",
        "        s = subtract(x,self.weights) # x - w\n",
        "        it = nditer(self.activation_map, flags=['multi_index'])\n",
        "        while not it.finished:\n",
        "            self.activation_map[it.multi_index] = fast_norm(s[it.multi_index]) # || x - w ||\n",
        "            it.iternext()\n",
        "\n",
        "    def activate(self,x):\n",
        "        \"\"\" Returns the activation map to x \"\"\"\n",
        "        self._activate(x)\n",
        "        return self.activation_map\n",
        "\n",
        "    def gaussian(self,c,sigma):\n",
        "        \"\"\" Returns a Gaussian centered in c \"\"\"\n",
        "        d = 2*pi*sigma*sigma\n",
        "        ax = exp(-power(self.neigx-c[0],2)/d)\n",
        "        ay = exp(-power(self.neigy-c[1],2)/d)\n",
        "        return outer(ax,ay) # the external product gives a matrix\n",
        "\n",
        "    def diff_gaussian(self,c,sigma):\n",
        "        \"\"\" Mexican hat centered in c (unused) \"\"\"\n",
        "        xx,yy = meshgrid(self.neigx,self.neigy)\n",
        "        p = power(xx-c[0],2) + power(yy-c[1],2)\n",
        "        d = 2*pi*sigma*sigma\n",
        "        return exp(-(p)/d)*(1-2/d*p)\n",
        "\n",
        "    def winner(self,x):\n",
        "        \"\"\" Computes the coordinates of the winning neuron for the sample x \"\"\"\n",
        "        self._activate(x)\n",
        "        return unravel_index(self.activation_map.argmin(),self.activation_map.shape)\n",
        "\n",
        "    def update(self,x,win,t):\n",
        "        \"\"\"\n",
        "            Updates the weights of the neurons.\n",
        "            x - current pattern to learn\n",
        "            win - position of the winning neuron for x (array or tuple).\n",
        "            t - iteration index\n",
        "        \"\"\"\n",
        "        # eta(t) = eta(0) / (1 + t/T) \n",
        "        # keeps the learning rate nearly constant for the first T iterations and then adjusts it\n",
        "        eta = self.learning_rate/(1+t/self.T)\n",
        "        sig = self.sigma/(1+t/self.T) # sigma and learning rate decrease with the same rule\n",
        "        g = self.neighborhood(win,sig)*eta # improves the performances\n",
        "        it = nditer(g, flags=['multi_index'])\n",
        "        while not it.finished:\n",
        "            # eta * neighborhood_function * (x-w)\n",
        "            self.weights[it.multi_index] += g[it.multi_index]*(x-self.weights[it.multi_index])            \n",
        "            # normalization\n",
        "            self.weights[it.multi_index] = self.weights[it.multi_index] / fast_norm(self.weights[it.multi_index])\n",
        "            it.iternext()\n",
        "\n",
        "    def quantization(self,data):\n",
        "        \"\"\" Assigns a code book (weights vector of the winning neuron) to each sample in data. \"\"\"\n",
        "        q = zeros(data.shape)\n",
        "        for i,x in enumerate(data):\n",
        "            q[i] = self.weights[self.winner(x)]\n",
        "        return q\n",
        "\n",
        "\n",
        "    def random_weights_init(self,data):\n",
        "        \"\"\" Initializes the weights of the SOM picking random samples from data \"\"\"\n",
        "        it = nditer(self.activation_map, flags=['multi_index'])\n",
        "        while not it.finished:\n",
        "            self.weights[it.multi_index] = data[int(self.random_generator.rand()*len(data)-1)]\n",
        "            self.weights[it.multi_index] = self.weights[it.multi_index]/fast_norm(self.weights[it.multi_index])\n",
        "            it.iternext()\n",
        "\n",
        "    def train_random(self,data,num_iteration):        \n",
        "        \"\"\" Trains the SOM picking samples at random from data \"\"\"\n",
        "        self._init_T(num_iteration)        \n",
        "        for iteration in range(num_iteration):\n",
        "            rand_i = int(round(self.random_generator.rand()*len(data)-1)) # pick a random sample\n",
        "            self.update(data[rand_i],self.winner(data[rand_i]),iteration)\n",
        "\n",
        "    def train_batch(self,data,num_iteration):\n",
        "        \"\"\" Trains using all the vectors in data sequentially \"\"\"\n",
        "        self._init_T(len(data)*num_iteration)\n",
        "        iteration = 0\n",
        "        while iteration < num_iteration:\n",
        "            idx = iteration % (len(data)-1)\n",
        "            self.update(data[idx],self.winner(data[idx]),iteration)\n",
        "            iteration += 1\n",
        "\n",
        "    def _init_T(self,num_iteration):\n",
        "        \"\"\" Initializes the parameter T needed to adjust the learning rate \"\"\"\n",
        "        self.T = num_iteration/2 # keeps the learning rate nearly constant for the first half of the iterations\n",
        "\n",
        "    def distance_map(self):\n",
        "        \"\"\" Returns the average distance map of the weights.\n",
        "            (Each mean is normalized in order to sum up to 1) \"\"\"\n",
        "        um = zeros((self.weights.shape[0],self.weights.shape[1]))\n",
        "        it = nditer(um, flags=['multi_index'])\n",
        "        while not it.finished:\n",
        "            for ii in range(it.multi_index[0]-1,it.multi_index[0]+2):\n",
        "                for jj in range(it.multi_index[1]-1,it.multi_index[1]+2):\n",
        "                    if ii >= 0 and ii < self.weights.shape[0] and jj >= 0 and jj < self.weights.shape[1]:\n",
        "                        um[it.multi_index] += fast_norm(self.weights[ii,jj,:]-self.weights[it.multi_index])\n",
        "            it.iternext()\n",
        "        um = um/um.max()\n",
        "        return um\n",
        "\n",
        "    def activation_response(self,data):\n",
        "        \"\"\" \n",
        "            Returns a matrix where the element i,j is the number of times\n",
        "            that the neuron i,j have been winner.\n",
        "        \"\"\"\n",
        "        a = zeros((self.weights.shape[0],self.weights.shape[1]))\n",
        "        for x in data:\n",
        "            a[self.winner(x)] += 1\n",
        "        return a\n",
        "\n",
        "    def quantization_error(self,data):\n",
        "        \"\"\" \n",
        "            Returns the quantization error computed as the average distance between\n",
        "            each input sample and its best matching unit.            \n",
        "        \"\"\"\n",
        "        error = 0\n",
        "        for x in data:\n",
        "            error += fast_norm(x-self.weights[self.winner(x)])\n",
        "        return error/len(data)\n",
        "\n",
        "    def win_map(self,data):\n",
        "        \"\"\"\n",
        "            Returns a dictionary wm where wm[(i,j)] is a list with all the patterns\n",
        "            that have been mapped in the position i,j.\n",
        "        \"\"\"\n",
        "        winmap = defaultdict(list)\n",
        "        for x in data:\n",
        "            winmap[self.winner(x)].append(x)\n",
        "        return winmap\n",
        "\n",
        "### unit tests\n",
        "from numpy.testing import assert_almost_equal, assert_array_almost_equal, assert_array_equal\n",
        "\n",
        "class TestSom:\n",
        "    def setup_method(self, method):\n",
        "        self.som = Som(5,5,1)\n",
        "        for w in self.som.weights: # checking weights normalization\n",
        "            assert_almost_equal(1.0,linalg.norm(w))\n",
        "        self.som.weights = zeros((5,5)) # fake weights\n",
        "        self.som.weights[2,3] = 5.0\n",
        "        self.som.weights[1,1] = 2.0\n",
        "\n",
        "    def test_fast_norm(self):\n",
        "        assert fast_norm(array([1,3])) == sqrt(1+9)\n",
        "\n",
        "    def test_gaussian(self):\n",
        "        bell = self.som.gaussian((2,2),1)\n",
        "        assert bell.max() == 1.0\n",
        "        assert bell.argmax() == 12  # unravel(12) = (2,2)\n",
        "\n",
        "    def test_win_map(self):\n",
        "        winners = self.som.win_map([5.0,2.0])\n",
        "        assert winners[(2,3)][0] == 5.0\n",
        "        assert winners[(1,1)][0] == 2.0\n",
        "\n",
        "    def test_activation_reponse(self):\n",
        "        response = self.som.activation_response([5.0,2.0])\n",
        "        assert response[2,3] == 1\n",
        "        assert response[1,1] == 1\n",
        "\n",
        "    def test_activate(self):\n",
        "        assert self.som.activate(5.0).argmin() == 13.0  # unravel(13) = (2,3)\n",
        "     \n",
        "    def test_quantization_error(self):\n",
        "        self.som.quantization_error([5,2]) == 0.0\n",
        "        self.som.quantization_error([4,1]) == 0.5\n",
        "\n",
        "    def test_quantization(self):\n",
        "        q = self.som.quantization(array([4,2]))\n",
        "        assert q[0] == 5.0\n",
        "        assert q[1] == 2.0\n",
        "\n",
        "    def test_random_seed(self):\n",
        "        som1 = Som(5,5,2,sigma=1.0,learning_rate=0.5,random_seed=1)\n",
        "        som2 = Som(5,5,2,sigma=1.0,learning_rate=0.5,random_seed=1)\n",
        "        assert_array_almost_equal(som1.weights,som2.weights) # same initialization\n",
        "        data = random.rand(100,2)\n",
        "        som1 = Som(5,5,2,sigma=1.0,learning_rate=0.5,random_seed=1)\n",
        "        som1.train_random(data,10)\n",
        "        som2 = Som(5,5,2,sigma=1.0,learning_rate=0.5,random_seed=1)\n",
        "        som2.train_random(data,10)\n",
        "        assert_array_almost_equal(som1.weights,som2.weights) # same state after training\n",
        "\n",
        "    def test_train_batch(self):\n",
        "        som = Som(5,5,2,sigma=1.0,learning_rate=0.5,random_seed=1)\n",
        "        data = array([[4,2],[3,1]])\n",
        "        q1 = som.quantization_error(data)\n",
        "        som.train_batch(data,10)\n",
        "        assert q1 > som.quantization_error(data)\n",
        "\n",
        "    def test_train_random(self):\n",
        "        som = Som(5,5,2,sigma=1.0,learning_rate=0.5,random_seed=1)\n",
        "        data = array([[4,2],[3,1]])\n",
        "        q1 = som.quantization_error(data)\n",
        "        som.train_random(data,10)\n",
        "        assert q1 > som.quantization_error(data)\n",
        "\n",
        "    def test_random_weights_init(self):\n",
        "        som = Som(2,2,2,random_seed=1)\n",
        "        som.random_weights_init(array([[1.0,.0]]))\n",
        "        for w in som.weights:\n",
        "            assert_array_equal(w[0],array([1.0,.0]))\n"
      ]
    },
    {
      "cell_type": "code",
      "source": [
        "import numpy as mp\n",
        "\n",
        "from sklearn.datasets import load_digits\n",
        "from pylab import plot, axis, show, pcolor, colorbar, bone"
      ],
      "metadata": {
        "id": "mKtmCbo5vRUA"
      },
      "execution_count": null,
      "outputs": []
    },
    {
      "cell_type": "code",
      "source": [
        "digits = load_digits()\n",
        "data = digits.data\n",
        "labels = digits.target\n"
      ],
      "metadata": {
        "id": "ctkwwfdsuBZT"
      },
      "execution_count": null,
      "outputs": []
    },
    {
      "cell_type": "code",
      "source": [
        "#SOM 모델링\n",
        "som = Som(16,16,64, sigma = 1.0, learning_rate = 0.5)\n",
        "#sigma : 가우시안 네이버후드 함수의 분포 정도\n",
        "#learning rate : SOM의 초기 학습 속도를 스스로 컨트롤할 수 있는 값\n",
        "som.random_weights_init(data)\n",
        "\n",
        "print(\"Initiating SOM\")\n",
        "\n",
        "som.train_random(data, 10000)\n",
        "print(\"SOM Processing Complete\")\n",
        "\n",
        "bone()\n",
        "pcolor(som.distance_map().T)\n",
        "colorbar()"
      ],
      "metadata": {
        "colab": {
          "base_uri": "https://localhost:8080/",
          "height": 321
        },
        "id": "0HxmjjQGuNN5",
        "outputId": "afde00ba-8416-4696-c5b1-69ebddf6edcd"
      },
      "execution_count": null,
      "outputs": [
        {
          "output_type": "stream",
          "name": "stdout",
          "text": [
            "Initiating SOM\n",
            "SOM Processing Complete\n"
          ]
        },
        {
          "output_type": "execute_result",
          "data": {
            "text/plain": [
              "<matplotlib.colorbar.Colorbar at 0x7f5204d53f50>"
            ]
          },
          "metadata": {},
          "execution_count": 8
        },
        {
          "output_type": "display_data",
          "data": {
            "image/png": "[encoded data removed]",
            "text/plain": [
              "<Figure size 432x288 with 2 Axes>"
            ]
          },
          "metadata": {
            "needs_background": "light"
          }
        }
      ]
    },
    {
      "cell_type": "markdown",
      "source": [
        "#합성곱 신경망\n",
        "MNIST 데이터"
      ],
      "metadata": {
        "id": "eH0giv5RLQa2"
      }
    },
    {
      "cell_type": "code",
      "source": [
        "import tensorflow as tf\n",
        "from tensorflow.keras import datasets, layers, models\n",
        "\n",
        "# 1. MNIST 데이터셋 불러오기\n",
        "(train_images, train_labels), (test_images, test_labels) = datasets.mnist.load_data()"
      ],
      "metadata": {
        "colab": {
          "base_uri": "https://localhost:8080/"
        },
        "id": "aNZyONq8LU5N",
        "outputId": "07f38c2e-be93-4ce0-927a-ec5b96342767"
      },
      "execution_count": null,
      "outputs": [
        {
          "output_type": "stream",
          "name": "stdout",
          "text": [
            "Downloading data from https://storage.googleapis.com/tensorflow/tf-keras-datasets/mnist.npz\n",
            "11493376/11490434 [==============================] - 0s 0us/step\n",
            "11501568/11490434 [==============================] - 0s 0us/step\n"
          ]
        }
      ]
    },
    {
      "cell_type": "code",
      "source": [
        "# 2. 데이터 전처리하기\n",
        "train_images = train_images.reshape((60000, 28, 28, 1))\n",
        "test_images = test_images.reshape((10000, 28, 28, 1))\n",
        "train_images, test_images = train_images / 255.0, test_images / 255.0\n"
      ],
      "metadata": {
        "id": "fem9ntXZLuhY"
      },
      "execution_count": null,
      "outputs": []
    },
    {
      "cell_type": "code",
      "source": [
        "# 3. 합성곱 신경망 구성하기\n",
        "model = tf.keras.models.Sequential([\n",
        "  tf.keras.layers.Conv2D(32, (3, 3), activation='relu', input_shape=(28, 28, 1)),\n",
        "  tf.keras.layers.MaxPooling2D(2, 2),\n",
        "  tf.keras.layers.Conv2D(64, (3, 3), activation='relu'),\n",
        "  tf.keras.layers.MaxPooling2D(2, 2),\n",
        "  tf.keras.layers.Conv2D(64, (3, 3), activation='relu'),\n",
        "  tf.keras.layers.MaxPooling2D(2, 2),\n",
        "  tf.keras.layers.Flatten(),\n",
        "  tf.keras.layers.Dense(64, activation='relu'),\n",
        "  tf.keras.layers.Dense(10, activation='softmax')\n",
        "])\n",
        "\n",
        "model.summary()\n"
      ],
      "metadata": {
        "colab": {
          "base_uri": "https://localhost:8080/"
        },
        "id": "skWd7Y1sNwjV",
        "outputId": "907c5ddb-a75e-4b1f-e86e-281b2f228d9d"
      },
      "execution_count": null,
      "outputs": [
        {
          "output_type": "stream",
          "name": "stdout",
          "text": [
            "Model: \"sequential_1\"\n",
            "_________________________________________________________________\n",
            " Layer (type)                Output Shape              Param #   \n",
            "=================================================================\n",
            " conv2d_3 (Conv2D)           (None, 26, 26, 32)        320       \n",
            "                                                                 \n",
            " max_pooling2d_3 (MaxPooling  (None, 13, 13, 32)       0         \n",
            " 2D)                                                             \n",
            "                                                                 \n",
            " conv2d_4 (Conv2D)           (None, 11, 11, 64)        18496     \n",
            "                                                                 \n",
            " max_pooling2d_4 (MaxPooling  (None, 5, 5, 64)         0         \n",
            " 2D)                                                             \n",
            "                                                                 \n",
            " conv2d_5 (Conv2D)           (None, 3, 3, 64)          36928     \n",
            "                                                                 \n",
            " max_pooling2d_5 (MaxPooling  (None, 1, 1, 64)         0         \n",
            " 2D)                                                             \n",
            "                                                                 \n",
            " flatten_1 (Flatten)         (None, 64)                0         \n",
            "                                                                 \n",
            " dense_2 (Dense)             (None, 64)                4160      \n",
            "                                                                 \n",
            " dense_3 (Dense)             (None, 10)                650       \n",
            "                                                                 \n",
            "=================================================================\n",
            "Total params: 60,554\n",
            "Trainable params: 60,554\n",
            "Non-trainable params: 0\n",
            "_________________________________________________________________\n"
          ]
        }
      ]
    },
    {
      "cell_type": "code",
      "source": [
        "# 4. 모델 컴파일하기\n",
        "model.compile(optimizer='adam',\n",
        "              loss='sparse_categorical_crossentropy',\n",
        "              metrics=['accuracy'])"
      ],
      "metadata": {
        "id": "dB3UtmcnQXPX"
      },
      "execution_count": null,
      "outputs": []
    },
    {
      "cell_type": "code",
      "source": [
        "# 5. 훈련하기\n",
        "model.fit(train_images, train_labels, epochs=5)"
      ],
      "metadata": {
        "colab": {
          "base_uri": "https://localhost:8080/"
        },
        "id": "415RCux8FJO9",
        "outputId": "c348bd30-c13a-4145-e8fc-17f0385694f5"
      },
      "execution_count": null,
      "outputs": [
        {
          "output_type": "stream",
          "name": "stdout",
          "text": [
            "Epoch 1/5\n",
            "1875/1875 [==============================] - 57s 30ms/step - loss: 0.2153 - accuracy: 0.9341\n",
            "Epoch 2/5\n",
            "1875/1875 [==============================] - 56s 30ms/step - loss: 0.0777 - accuracy: 0.9762\n",
            "Epoch 3/5\n",
            "1875/1875 [==============================] - 56s 30ms/step - loss: 0.0541 - accuracy: 0.9835\n",
            "Epoch 4/5\n",
            "1875/1875 [==============================] - 56s 30ms/step - loss: 0.0430 - accuracy: 0.9867\n",
            "Epoch 5/5\n",
            "1875/1875 [==============================] - 56s 30ms/step - loss: 0.0344 - accuracy: 0.9888\n"
          ]
        },
        {
          "output_type": "execute_result",
          "data": {
            "text/plain": [
              "<keras.callbacks.History at 0x7f5199faf9d0>"
            ]
          },
          "metadata": {},
          "execution_count": 15
        }
      ]
    },
    {
      "cell_type": "code",
      "source": [
        "# 6. 모델 평가하기\n",
        "loss, acc = model.evaluate(test_images, test_labels, verbose=2)"
      ],
      "metadata": {
        "colab": {
          "base_uri": "https://localhost:8080/"
        },
        "id": "GcV8zcVqGUEM",
        "outputId": "612dee64-d271-421f-cd56-136552ac5df4"
      },
      "execution_count": null,
      "outputs": [
        {
          "output_type": "stream",
          "name": "stdout",
          "text": [
            "313/313 - 3s - loss: 0.0588 - accuracy: 0.9860 - 3s/epoch - 9ms/step\n"
          ]
        }
      ]
    },
    {
      "cell_type": "code",
      "source": [
        ""
      ],
      "metadata": {
        "id": "8aBI94rMGai3"
      },
      "execution_count": null,
      "outputs": []
    }
  ]
}