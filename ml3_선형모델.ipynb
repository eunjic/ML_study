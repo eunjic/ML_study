{
  "nbformat": 4,
  "nbformat_minor": 0,
  "metadata": {
    "colab": {
      "name": "ml3.선형모델.ipynb",
      "provenance": [],
      "authorship_tag": "ABX9TyMCjAY5s4PWkf5NmHrJeH2C",
      "include_colab_link": true
    },
    "kernelspec": {
      "name": "python3",
      "display_name": "Python 3"
    },
    "language_info": {
      "name": "python"
    }
  },
  "cells": [
    {
      "cell_type": "markdown",
      "metadata": {
        "id": "view-in-github",
        "colab_type": "text"
      },
      "source": [
        "<a href=\"https://colab.research.google.com/github/kani215/ML_study/blob/main/ml3_%EC%84%A0%ED%98%95%EB%AA%A8%EB%8D%B8.ipynb\" target=\"_parent\"><img src=\"https://colab.research.google.com/assets/colab-badge.svg\" alt=\"Open In Colab\"/></a>"
      ]
    },
    {
      "cell_type": "code",
      "execution_count": null,
      "metadata": {
        "id": "uIR_7KCAJRL5"
      },
      "outputs": [],
      "source": [
        "# 4.1 정규 방정식 이용 선형 회귀\n",
        "import numpy as np\n",
        "\n",
        "x = 2 * np.random.rand(100, 1)\n",
        "y = 4 + 3*x + np.random.randn(100,1)"
      ]
    },
    {
      "cell_type": "code",
      "source": [
        "# predict w & b\n",
        "x_b = np.c_[np.ones((100,1)),x]\n",
        "theta_best = np.linalg.inv(x_b.T.dot(x_b)).dot(x_b.T).dot(y)\n",
        "theta_best"
      ],
      "metadata": {
        "colab": {
          "base_uri": "https://localhost:8080/"
        },
        "id": "vkRi2q2-OogZ",
        "outputId": "13d66989-cfe1-487a-efac-e58cbc8095f4"
      },
      "execution_count": null,
      "outputs": [
        {
          "output_type": "execute_result",
          "data": {
            "text/plain": [
              "array([[3.83169661],\n",
              "       [3.03192337]])"
            ]
          },
          "metadata": {},
          "execution_count": 7
        }
      ]
    },
    {
      "cell_type": "code",
      "source": [
        "# with sklearn\n",
        "from sklearn.linear_model import LinearRegression\n",
        "lin_reg =LinearRegression()\n",
        "lin_reg.fit(x,y)\n",
        "print(lin_reg.intercept_)\n",
        "print(lin_reg.coef_)"
      ],
      "metadata": {
        "colab": {
          "base_uri": "https://localhost:8080/"
        },
        "id": "XLlLfGMGPSDS",
        "outputId": "9a7d578d-0e3b-4d73-800f-e5c40fb08ab8"
      },
      "execution_count": null,
      "outputs": [
        {
          "output_type": "stream",
          "name": "stdout",
          "text": [
            "[3.83169661]\n",
            "[[3.03192337]]\n"
          ]
        }
      ]
    },
    {
      "cell_type": "code",
      "source": [
        "import matplotlib.pyplot as plt\n",
        "x_new = np.array([[0],[2]])\n",
        "x_new_b = np.c_[np.ones((2,1)),x_new]\n",
        "y_predict = x_new_b.dot(theta_best)\n",
        "\n",
        "plt.plot(x_new, y_predict, \"r-\")\n",
        "plt.plot(x,y,\"b.\")\n",
        "plt.axis([0,2,0,15])\n",
        "plt.show()"
      ],
      "metadata": {
        "colab": {
          "base_uri": "https://localhost:8080/",
          "height": 265
        },
        "id": "iNEr8CDWP8Mx",
        "outputId": "6f5b61d6-13e0-4cbd-9c73-45b1a0d40c27"
      },
      "execution_count": null,
      "outputs": [
        {
          "output_type": "display_data",
          "data": {
            "image/png": "[encoded data removed]",
            "text/plain": [
              "<Figure size 432x288 with 1 Axes>"
            ]
          },
          "metadata": {
            "needs_background": "light"
          }
        }
      ]
    },
    {
      "cell_type": "code",
      "source": [
        "#   logistic regressio for classification\n",
        "from sklearn import datasets\n",
        "iris = datasets.load_iris()\n",
        "print('keys: ',list(iris.keys()))\n",
        "x = iris[\"data\"][:,3:]\n",
        "y = (iris[\"target\"] == 2).astype(np.int) # if iris = virginica == 1 or if not 0\n",
        "\n",
        "from sklearn.linear_model import LogisticRegression\n",
        "log_reg = LogisticRegression()\n",
        "log_reg.fit(x,y)\n",
        "\n",
        "x_new = np.linspace(0,3,1000).reshape(-1,1)\n",
        "y_proba = log_reg.predict_proba(x_new)\n",
        "plt.plot(x_new,y_proba[:,1],\"g-\",label=\"Iris virginica\")\n",
        "plt.plot(x_new,y_proba[:,0],\"b--\",label=\"Not Iris virginica\")"
      ],
      "metadata": {
        "colab": {
          "base_uri": "https://localhost:8080/",
          "height": 302
        },
        "id": "zLppC5FhTSnu",
        "outputId": "0a155c96-132a-425a-f8b9-b52133ae85c0"
      },
      "execution_count": null,
      "outputs": [
        {
          "output_type": "stream",
          "name": "stdout",
          "text": [
            "keys:  ['data', 'target', 'frame', 'target_names', 'DESCR', 'feature_names', 'filename', 'data_module']\n"
          ]
        },
        {
          "output_type": "execute_result",
          "data": {
            "text/plain": [
              "[<matplotlib.lines.Line2D at 0x7f7087f43150>]"
            ]
          },
          "metadata": {},
          "execution_count": 14
        },
        {
          "output_type": "display_data",
          "data": {
            "image/png": "[encoded data removed]",
            "text/plain": [
              "<Figure size 432x288 with 1 Axes>"
            ]
          },
          "metadata": {
            "needs_background": "light"
          }
        }
      ]
    },
    {
      "cell_type": "code",
      "source": [
        "# classification is well done \n",
        "# x : flower destin is effective factor\n",
        "# if xx >== 1.7, which type is predicted by model?\n",
        "\n",
        "log_reg.predict([[1.7],[1.5]])\n"
      ],
      "metadata": {
        "colab": {
          "base_uri": "https://localhost:8080/"
        },
        "id": "rTLwhnuwXuyn",
        "outputId": "8bd7e0da-f9eb-4bd2-95a0-fa02892838c9"
      },
      "execution_count": null,
      "outputs": [
        {
          "output_type": "execute_result",
          "data": {
            "text/plain": [
              "array([1, 0])"
            ]
          },
          "metadata": {},
          "execution_count": 15
        }
      ]
    }
  ]
}